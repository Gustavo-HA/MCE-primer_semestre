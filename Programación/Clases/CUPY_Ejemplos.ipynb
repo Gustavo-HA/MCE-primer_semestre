{
  "nbformat": 4,
  "nbformat_minor": 0,
  "metadata": {
    "colab": {
      "provenance": [],
      "gpuType": "T4"
    },
    "kernelspec": {
      "name": "python3",
      "display_name": "Python 3"
    },
    "language_info": {
      "name": "python"
    },
    "accelerator": "GPU"
  },
  "cells": [
    {
      "cell_type": "markdown",
      "source": [
        "## Ejemplos usando CuPy"
      ],
      "metadata": {
        "id": "plaj75s0cDd2"
      }
    },
    {
      "cell_type": "code",
      "execution_count": null,
      "metadata": {
        "id": "pojpM3T4Ub7J"
      },
      "outputs": [],
      "source": [
        "# Vemos si tenemos instalada la librería CuPy\n",
        "import numpy as np\n",
        "import cupy as cp"
      ]
    },
    {
      "cell_type": "markdown",
      "source": [
        "## Ejemplo 1: Declaración de variables en CuPy"
      ],
      "metadata": {
        "id": "17gGpdpGV7Hf"
      }
    },
    {
      "cell_type": "code",
      "source": [
        "#Declaramos un arreglo en la CPU\n",
        "x_cpu=np.array([1,2,3])\n",
        "\n",
        "#Declaramos un arreglo en la GPU\n",
        "x_gpu=cp.array([1,2,3])\n",
        "\n",
        "#Calculamos la norma L2 en la CPU\n",
        "norm_L2_x_cpu=np.linalg.norm(x_cpu)\n",
        "\n",
        "#Calculamos la norma L2 en la GPU\n",
        "norm_L2_x_GPU=cp.linalg.norm(x_gpu)\n",
        "\n",
        "#Mostrar resultados\n",
        "print(norm_L2_x_cpu)\n",
        "print(norm_L2_x_GPU)\n",
        "\n",
        "with cp.cuda.Device(0):\n",
        "    y_gpu = cp.array([1, 2, 3, 4, 5])\n",
        "print(y_gpu.device)"
      ],
      "metadata": {
        "colab": {
          "base_uri": "https://localhost:8080/"
        },
        "id": "CHDXTb5SU8ae",
        "outputId": "cb2e4888-6659-44ef-d0f0-06f4aa496a4c"
      },
      "execution_count": null,
      "outputs": [
        {
          "output_type": "stream",
          "name": "stdout",
          "text": [
            "3.7416573867739413\n",
            "3.7416573867739413\n",
            "<CUDA Device 0>\n"
          ]
        }
      ]
    },
    {
      "cell_type": "markdown",
      "source": [
        "## Ejemplo 2: Transferencia de datos"
      ],
      "metadata": {
        "id": "83gM7BHnWQ6R"
      }
    },
    {
      "cell_type": "code",
      "source": [
        "x_cpu = np.array([1, 2, 3])\n",
        "\n",
        "#Copiar datos desde la CPU a la GPU\n",
        "x_gpu = cp.asarray(x_cpu)\n",
        "\n",
        "#Copiar datos desde la GPU a la CPU\n",
        "y_cpu = cp.asnumpy(x_gpu)\n",
        "#y_cpu = x_gpu.get() #También se puede\n",
        "                     #usar el atributo get()\n",
        "#Mostrar resultados\n",
        "print(x_cpu)\n",
        "print(x_gpu)\n",
        "print(y_cpu)\n",
        "\n",
        "#cp.asarray y cp.asnumpy aceptan cualquier entrada (CPU/GPU)\n",
        "#cp.asarray devuelve un arreglo CuPy en el device\n",
        "#cp.asnumpy devuelve un arreglo Numpy en el host\n",
        "z_cpu=x_cpu+y_cpu\n",
        "#z_aux=x_gpu+y_cpu #No es posible\n",
        "#Podemos hacer lo siguiente\n",
        "z2_cpu=cp.asnumpy(x_gpu)+y_cpu\n",
        "#o esto\n",
        "z3_gpu=x_gpu+cp.asarray(y_cpu)\n",
        "\n",
        "print(z_cpu)\n",
        "print(z2_cpu)\n",
        "print(z3_gpu)"
      ],
      "metadata": {
        "colab": {
          "base_uri": "https://localhost:8080/"
        },
        "id": "GuHeKIlQWVoq",
        "outputId": "d100c520-3c32-4e4e-9a0d-3e26a16536ef"
      },
      "execution_count": null,
      "outputs": [
        {
          "output_type": "stream",
          "name": "stdout",
          "text": [
            "[1 2 3]\n",
            "[1 2 3]\n",
            "[1 2 3]\n",
            "[2 4 6]\n",
            "[2 4 6]\n",
            "[2 4 6]\n"
          ]
        }
      ]
    },
    {
      "cell_type": "markdown",
      "source": [
        "## Ejemplo 3: CUDA-Kernel Elemental"
      ],
      "metadata": {
        "id": "PY1Llq2xXZjO"
      }
    },
    {
      "cell_type": "code",
      "source": [
        "#Creando una función CUDA-Kernel para evaluar las diferencias al cuadrado\n",
        "squared_diff = cp.ElementwiseKernel('float32 x, float32 y',\n",
        "                                    'float32 z',\n",
        "                                    'z = (x - y) * (x - y)',\n",
        "                                    'squared_diff')\n",
        "\n",
        "x = cp.arange(10, dtype=np.float32).reshape(2, 5)\n",
        "y = cp.arange(5, dtype=np.float32)\n",
        "\n",
        "#z=squared_diff(x, y)\n",
        "#También se puede hacer esto\n",
        "z = cp.empty((2, 5), dtype=np.float32)\n",
        "squared_diff(x, y,z)\n",
        "\n",
        "print(x)\n",
        "print(y)\n",
        "print(z)\n"
      ],
      "metadata": {
        "colab": {
          "base_uri": "https://localhost:8080/"
        },
        "id": "vfLTrFb8Xd4X",
        "outputId": "c6f3e414-0744-4e0a-a6ee-d9238c0c3c04"
      },
      "execution_count": null,
      "outputs": [
        {
          "output_type": "stream",
          "name": "stdout",
          "text": [
            "[[0. 1. 2. 3. 4.]\n",
            " [5. 6. 7. 8. 9.]]\n",
            "[0. 1. 2. 3. 4.]\n",
            "[[ 0.  0.  0.  0.  0.]\n",
            " [25. 25. 25. 25. 25.]]\n"
          ]
        }
      ]
    },
    {
      "cell_type": "markdown",
      "source": [
        "## Ejemplo 4: CUDA-Kernel Reducción"
      ],
      "metadata": {
        "id": "ZR67klC5ZPc-"
      }
    },
    {
      "cell_type": "code",
      "source": [
        "l2norm_kernel = cp.ReductionKernel('T x', # Entrada\n",
        "                                   'T y', # Salida\n",
        "                                   'x * x', # 1- Mapeo\n",
        "                                   'a + b', # 2- Reducción\n",
        "                                   'y = sqrt(a)', # 3- Mapeo posterior\n",
        "                                   '0', # 4- Valor inicial\n",
        "                                   'l2norm' # Nombre del Kernel\n",
        "                                   )\n",
        "\n",
        "x = cp.arange(10, dtype=np.float32).reshape(2, 5)\n",
        "y=l2norm_kernel(x, axis=1)\n",
        "\n",
        "print(x)\n",
        "print(y)"
      ],
      "metadata": {
        "colab": {
          "base_uri": "https://localhost:8080/"
        },
        "id": "PxHog2maZQTa",
        "outputId": "ed7b30b3-ec22-437a-8aba-1770692bac16"
      },
      "execution_count": null,
      "outputs": [
        {
          "output_type": "stream",
          "name": "stdout",
          "text": [
            "[[0. 1. 2. 3. 4.]\n",
            " [5. 6. 7. 8. 9.]]\n",
            "[ 5.477226  15.9687195]\n"
          ]
        }
      ]
    },
    {
      "cell_type": "markdown",
      "source": [
        "## Ejemplo 5: CUDA-Kernel Crudo"
      ],
      "metadata": {
        "id": "cV4E3fYdazEZ"
      }
    },
    {
      "cell_type": "code",
      "source": [
        "VectorAdd_kernel_cp = cp.RawKernel(r'''\n",
        "    extern \"C\" __global__\n",
        "    void VectorAdd_kernel(const float* x1_d, const float* x2_d, float* y_d) {\n",
        "        int tid = blockDim.x * blockIdx.x + threadIdx.x;\n",
        "        y_d[tid] = x1_d[tid] + x2_d[tid];\n",
        "    }\n",
        "    ''', 'VectorAdd_kernel')\n",
        "x1_d = cp.arange(25, dtype=cp.float32).reshape(5, 5)\n",
        "x2_d = cp.arange(25, dtype=cp.float32).reshape(5, 5)\n",
        "y_d = cp.zeros((5, 5), dtype=cp.float32)\n",
        "VectorAdd_kernel_cp((5,), (5,), (x1_d, x2_d, y_d)) # grid, block and arguments\n",
        "                                    # Notar que tanto el grid como el block son 1D\n",
        "print(y_d)"
      ],
      "metadata": {
        "colab": {
          "base_uri": "https://localhost:8080/"
        },
        "id": "yF1lKO7zbAcs",
        "outputId": "fa91c3bd-c109-42f4-bad2-1c358a38d807"
      },
      "execution_count": null,
      "outputs": [
        {
          "output_type": "stream",
          "name": "stdout",
          "text": [
            "[[ 0.  2.  4.  6.  8.]\n",
            " [10. 12. 14. 16. 18.]\n",
            " [20. 22. 24. 26. 28.]\n",
            " [30. 32. 34. 36. 38.]\n",
            " [40. 42. 44. 46. 48.]]\n"
          ]
        }
      ]
    },
    {
      "cell_type": "markdown",
      "source": [
        "## Ejemplo 6: CUDA-Kernel Modulo"
      ],
      "metadata": {
        "id": "Xcwx29LMbglm"
      }
    },
    {
      "cell_type": "code",
      "source": [
        "loaded_from_source = r'''\n",
        "extern \"C\"{\n",
        "    __global__ void test_sum(const float* x1_d, const float* x2_d, float* y_d,unsigned int N){\n",
        "        unsigned int tid = blockDim.x * blockIdx.x + threadIdx.x;\n",
        "        if (tid < N){\n",
        "            y_d[tid] = x1_d[tid] + x2_d[tid];\n",
        "        }\n",
        "    }\n",
        "    __global__ void test_mult(const float* x1_d, const float* x2_d, float* y_d,unsigned int N){\n",
        "        unsigned int tid = blockDim.x * blockIdx.x + threadIdx.x;\n",
        "        if (tid < N){\n",
        "            y_d[tid] = x1_d[tid] * x2_d[tid];\n",
        "        }\n",
        "    }\n",
        "}'''\n",
        "module = cp.RawModule(code=loaded_from_source)\n",
        "ker_sum = module.get_function('test_sum')\n",
        "ker_mult = module.get_function('test_mult')\n",
        "N = 10\n",
        "x1_d = cp.arange(N**2, dtype=cp.float32).reshape(N, N)\n",
        "x2_d = cp.ones((N, N), dtype=cp.float32)*2.5\n",
        "y_d  = cp.zeros((N, N), dtype=cp.float32)\n",
        "z_d  = cp.zeros((N, N), dtype=cp.float32)\n",
        "ker_sum((N,), (N,), (x1_d, x2_d, y_d, N**2))\n",
        "ker_mult((N,), (N,), (x1_d, x2_d, z_d, N**2))\n",
        "print(y_d)\n",
        "print(z_d)"
      ],
      "metadata": {
        "colab": {
          "base_uri": "https://localhost:8080/"
        },
        "id": "YldhGsbNbniH",
        "outputId": "dec509a5-1aee-4808-ed61-450263103dd3"
      },
      "execution_count": null,
      "outputs": [
        {
          "output_type": "stream",
          "name": "stdout",
          "text": [
            "[[  2.5   3.5   4.5   5.5   6.5   7.5   8.5   9.5  10.5  11.5]\n",
            " [ 12.5  13.5  14.5  15.5  16.5  17.5  18.5  19.5  20.5  21.5]\n",
            " [ 22.5  23.5  24.5  25.5  26.5  27.5  28.5  29.5  30.5  31.5]\n",
            " [ 32.5  33.5  34.5  35.5  36.5  37.5  38.5  39.5  40.5  41.5]\n",
            " [ 42.5  43.5  44.5  45.5  46.5  47.5  48.5  49.5  50.5  51.5]\n",
            " [ 52.5  53.5  54.5  55.5  56.5  57.5  58.5  59.5  60.5  61.5]\n",
            " [ 62.5  63.5  64.5  65.5  66.5  67.5  68.5  69.5  70.5  71.5]\n",
            " [ 72.5  73.5  74.5  75.5  76.5  77.5  78.5  79.5  80.5  81.5]\n",
            " [ 82.5  83.5  84.5  85.5  86.5  87.5  88.5  89.5  90.5  91.5]\n",
            " [ 92.5  93.5  94.5  95.5  96.5  97.5  98.5  99.5 100.5 101.5]]\n",
            "[[  0.    2.5   5.    7.5  10.   12.5  15.   17.5  20.   22.5]\n",
            " [ 25.   27.5  30.   32.5  35.   37.5  40.   42.5  45.   47.5]\n",
            " [ 50.   52.5  55.   57.5  60.   62.5  65.   67.5  70.   72.5]\n",
            " [ 75.   77.5  80.   82.5  85.   87.5  90.   92.5  95.   97.5]\n",
            " [100.  102.5 105.  107.5 110.  112.5 115.  117.5 120.  122.5]\n",
            " [125.  127.5 130.  132.5 135.  137.5 140.  142.5 145.  147.5]\n",
            " [150.  152.5 155.  157.5 160.  162.5 165.  167.5 170.  172.5]\n",
            " [175.  177.5 180.  182.5 185.  187.5 190.  192.5 195.  197.5]\n",
            " [200.  202.5 205.  207.5 210.  212.5 215.  217.5 220.  222.5]\n",
            " [225.  227.5 230.  232.5 235.  237.5 240.  242.5 245.  247.5]]\n"
          ]
        }
      ]
    }
  ]
}