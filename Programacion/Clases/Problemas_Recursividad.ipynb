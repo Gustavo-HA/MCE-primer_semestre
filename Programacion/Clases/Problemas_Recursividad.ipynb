{
 "cells": [
  {
   "cell_type": "markdown",
   "metadata": {},
   "source": [
    "### Problemas "
   ]
  },
  {
   "cell_type": "markdown",
   "metadata": {},
   "source": [
    "#### Problema 1.\n",
    "\n",
    "El problema de \"ABACABA\" es un ejercicio interesante que genera una secuencia particular. La secuencia tiene una estructura que se expande progresivamente en cada nivel.\n",
    "\n",
    "### Descripción del Problema\n",
    "\n",
    "La secuencia se genera como sigue:\n",
    "\n",
    "1. La secuencia en el primer nivel es simplemente \"A\".\n",
    "2. En cada nivel posterior, la secuencia se construye tomando la secuencia del nivel anterior, seguida por la siguiente letra del alfabeto, y luego nuevamente la secuencia del nivel anterior.\n",
    "\n",
    "### Ejemplos de la Secuencia\n",
    "\n",
    "- Nivel 1: \"A\"\n",
    "- Nivel 2: \"ABA\"\n",
    "- Nivel 3: \"ABACABA\"\n",
    "- Nivel 4: \"ABACABADABACABA\"\n",
    "- Nivel 5: \"ABACABADABACABAEABACABADABACABA\"\n",
    "\n",
    "Como se puede observar:\n",
    "- El segundo nivel se obtiene tomando \"A\", luego agregando \"B\", y luego repitiendo \"A\".\n",
    "- El tercer nivel se forma al tomar la secuencia \"ABA\", agregar \"C\", y luego repetir \"ABA\".\n",
    "- Y así sucesivamente."
   ]
  },
  {
   "cell_type": "code",
   "execution_count": 28,
   "metadata": {},
   "outputs": [
    {
     "name": "stdout",
     "output_type": "stream",
     "text": [
      "67108863\n"
     ]
    }
   ],
   "source": [
    "def abacaba(n, alfabeto = \"-ABCDEFGHIJKLMNOPQRSTUVWXYZ\"):\n",
    "    if n == 0:\n",
    "        return \"\"\n",
    "    nivel_anterior = abacaba(n-1)\n",
    "    return nivel_anterior+alfabeto[n-1]+nivel_anterior\n",
    "\n",
    "print(len(abacaba(26)))"
   ]
  },
  {
   "cell_type": "markdown",
   "metadata": {},
   "source": []
  },
  {
   "cell_type": "code",
   "execution_count": 53,
   "metadata": {},
   "outputs": [
    {
     "name": "stdout",
     "output_type": "stream",
     "text": [
      "- -   - -         - -   - -                           - -   - -         - -   - -                                                                                 - -   - -         - -   - -                           - -   - -         - -   - -\n"
     ]
    }
   ],
   "source": [
    "def cantor(n):\n",
    "    if n == 0:\n",
    "        return \"-\"\n",
    "    concatenar = cantor(n-1)\n",
    "    return concatenar + 3**(n-1)*\" \" + concatenar\n",
    "\n",
    "print(cantor(5))"
   ]
  },
  {
   "cell_type": "code",
   "execution_count": 66,
   "metadata": {},
   "outputs": [
    {
     "name": "stdout",
     "output_type": "stream",
     "text": [
      "---------------------------\n",
      "                           \n",
      "                           \n",
      "                           \n",
      "                           \n",
      "                           \n",
      "                           \n",
      "                           \n",
      "                           \n"
     ]
    },
    {
     "ename": "IndexError",
     "evalue": "list assignment index out of range",
     "output_type": "error",
     "traceback": [
      "\u001b[1;31m---------------------------------------------------------------------------\u001b[0m",
      "\u001b[1;31mIndexError\u001b[0m                                Traceback (most recent call last)",
      "Cell \u001b[1;32mIn[66], line 17\u001b[0m\n\u001b[0;32m     14\u001b[0m     cantor_por_pasos(n\u001b[38;5;241m-\u001b[39m\u001b[38;5;241m1\u001b[39m,\u001b[38;5;241m0\u001b[39m)\n\u001b[0;32m     15\u001b[0m     cantor_por_pasos(n\u001b[38;5;241m-\u001b[39m\u001b[38;5;241m1\u001b[39m,\u001b[38;5;241m2\u001b[39m\u001b[38;5;241m*\u001b[39m\u001b[38;5;241m3\u001b[39m\u001b[38;5;241m*\u001b[39m\u001b[38;5;241m*\u001b[39m(n\u001b[38;5;241m-\u001b[39m\u001b[38;5;241m1\u001b[39m))\n\u001b[1;32m---> 17\u001b[0m \u001b[43mcantor_por_pasos\u001b[49m\u001b[43m(\u001b[49m\u001b[38;5;241;43m4\u001b[39;49m\u001b[43m,\u001b[49m\u001b[38;5;241;43m0\u001b[39;49m\u001b[43m)\u001b[49m\n",
      "Cell \u001b[1;32mIn[66], line 15\u001b[0m, in \u001b[0;36mcantor_por_pasos\u001b[1;34m(n, inicial)\u001b[0m\n\u001b[0;32m     12\u001b[0m     linea_inicial[i\u001b[38;5;241m+\u001b[39minicial] \u001b[38;5;241m=\u001b[39m \u001b[38;5;124m\"\u001b[39m\u001b[38;5;124m \u001b[39m\u001b[38;5;124m\"\u001b[39m\n\u001b[0;32m     14\u001b[0m cantor_por_pasos(n\u001b[38;5;241m-\u001b[39m\u001b[38;5;241m1\u001b[39m,\u001b[38;5;241m0\u001b[39m)\n\u001b[1;32m---> 15\u001b[0m \u001b[43mcantor_por_pasos\u001b[49m\u001b[43m(\u001b[49m\u001b[43mn\u001b[49m\u001b[38;5;241;43m-\u001b[39;49m\u001b[38;5;241;43m1\u001b[39;49m\u001b[43m,\u001b[49m\u001b[38;5;241;43m2\u001b[39;49m\u001b[38;5;241;43m*\u001b[39;49m\u001b[38;5;241;43m3\u001b[39;49m\u001b[38;5;241;43m*\u001b[39;49m\u001b[38;5;241;43m*\u001b[39;49m\u001b[43m(\u001b[49m\u001b[43mn\u001b[49m\u001b[38;5;241;43m-\u001b[39;49m\u001b[38;5;241;43m1\u001b[39;49m\u001b[43m)\u001b[49m\u001b[43m)\u001b[49m\n",
      "Cell \u001b[1;32mIn[66], line 12\u001b[0m, in \u001b[0;36mcantor_por_pasos\u001b[1;34m(n, inicial)\u001b[0m\n\u001b[0;32m      9\u001b[0m \u001b[38;5;28mprint\u001b[39m(\u001b[38;5;124m\"\u001b[39m\u001b[38;5;124m\"\u001b[39m\u001b[38;5;241m.\u001b[39mjoin(linea_inicial))\n\u001b[0;32m     11\u001b[0m \u001b[38;5;28;01mfor\u001b[39;00m i \u001b[38;5;129;01min\u001b[39;00m \u001b[38;5;28mrange\u001b[39m(\u001b[38;5;241m3\u001b[39m\u001b[38;5;241m*\u001b[39m\u001b[38;5;241m*\u001b[39m(n\u001b[38;5;241m-\u001b[39m\u001b[38;5;241m1\u001b[39m)):\n\u001b[1;32m---> 12\u001b[0m     \u001b[43mlinea_inicial\u001b[49m\u001b[43m[\u001b[49m\u001b[43mi\u001b[49m\u001b[38;5;241;43m+\u001b[39;49m\u001b[43minicial\u001b[49m\u001b[43m]\u001b[49m \u001b[38;5;241m=\u001b[39m \u001b[38;5;124m\"\u001b[39m\u001b[38;5;124m \u001b[39m\u001b[38;5;124m\"\u001b[39m\n\u001b[0;32m     14\u001b[0m cantor_por_pasos(n\u001b[38;5;241m-\u001b[39m\u001b[38;5;241m1\u001b[39m,\u001b[38;5;241m0\u001b[39m)\n\u001b[0;32m     15\u001b[0m cantor_por_pasos(n\u001b[38;5;241m-\u001b[39m\u001b[38;5;241m1\u001b[39m,\u001b[38;5;241m2\u001b[39m\u001b[38;5;241m*\u001b[39m\u001b[38;5;241m3\u001b[39m\u001b[38;5;241m*\u001b[39m\u001b[38;5;241m*\u001b[39m(n\u001b[38;5;241m-\u001b[39m\u001b[38;5;241m1\u001b[39m))\n",
      "\u001b[1;31mIndexError\u001b[0m: list assignment index out of range"
     ]
    }
   ],
   "source": []
  }
 ],
 "metadata": {
  "kernelspec": {
   "display_name": "Python 3",
   "language": "python",
   "name": "python3"
  },
  "language_info": {
   "codemirror_mode": {
    "name": "ipython",
    "version": 3
   },
   "file_extension": ".py",
   "mimetype": "text/x-python",
   "name": "python",
   "nbconvert_exporter": "python",
   "pygments_lexer": "ipython3",
   "version": "3.11.2"
  }
 },
 "nbformat": 4,
 "nbformat_minor": 2
}
